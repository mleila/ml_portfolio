{
 "cells": [
  {
   "cell_type": "markdown",
   "metadata": {},
   "source": [
    "# Introduction"
   ]
  },
  {
   "cell_type": "code",
   "execution_count": 1,
   "metadata": {},
   "outputs": [],
   "source": [
    "import numpy as np\n",
    "import tensorflow as tf"
   ]
  },
  {
   "cell_type": "markdown",
   "metadata": {},
   "source": [
    "<div></div>\n",
    "<img src=\"../../assets/01_ML_Concepts/LR_GD_1.png\", width=500, height=100>"
   ]
  },
  {
   "cell_type": "markdown",
   "metadata": {},
   "source": [
    "<div>\n",
    "<img src=\"../../assets/01_ML_Concepts/LR_GD_2.png\", width=500, height=100>\n",
    "    </div>"
   ]
  },
  {
   "cell_type": "markdown",
   "metadata": {},
   "source": [
    "<div>\n",
    "<img src=\"../../assets/01_ML_Concepts/LR_GD_3.png\", width=500, height=100>\n",
    "    </div>"
   ]
  },
  {
   "cell_type": "markdown",
   "metadata": {},
   "source": [
    "# Implementation"
   ]
  },
  {
   "cell_type": "markdown",
   "metadata": {},
   "source": [
    "Let's implement Gradient Descent using the derived gradients"
   ]
  },
  {
   "cell_type": "markdown",
   "metadata": {},
   "source": [
    "## Synthetic Data"
   ]
  },
  {
   "cell_type": "code",
   "execution_count": 2,
   "metadata": {},
   "outputs": [
    {
     "name": "stdout",
     "output_type": "stream",
     "text": [
      "X shape = (100, 3), y shape = (100, 1)\n"
     ]
    }
   ],
   "source": [
    "nb_samples = 100 # n in the whiteboard\n",
    "nb_features = 3 # d in the whiteboard\n",
    "\n",
    "# generate three random vectors \n",
    "x_1 = np.random.normal(0, 0.1, size=nb_samples)\n",
    "x_2 = np.random.normal(0, 0.3, size=nb_samples)\n",
    "x_3 = np.random.normal(0, 0.2, size=nb_samples)\n",
    "\n",
    "# take their linear combination according to vector theta to generate y\n",
    "noise = np.random.normal(0, 0.01, size=nb_samples) # some gaussian noise\n",
    "noise = 0\n",
    "y = 0.3*x_1 + 0.2*x_2 + 0.1*x_3 + noise # number of parameters corresponidng to nb_features\n",
    "y = y.reshape(-1, 1) # this is important for tf\n",
    "\n",
    "# create the design matrix X\n",
    "X = np.stack([x_1, x_2, x_3], axis=1)\n",
    "\n",
    "# sanity check the dimensions of our matrices\n",
    "print(f'X shape = {X.shape}, y shape = {y.shape}')"
   ]
  },
  {
   "cell_type": "markdown",
   "metadata": {},
   "source": [
    "## Numpy"
   ]
  },
  {
   "cell_type": "code",
   "execution_count": 3,
   "metadata": {},
   "outputs": [],
   "source": [
    "def compute_gradient(y, theta, X):\n",
    "    '''\n",
    "    Implement the gradient as shown from the derivation\n",
    "    '''\n",
    "    gradient = (-y.T @ X) + (theta.T @ X.T @ X)\n",
    "    return gradient.T\n",
    "\n",
    "\n",
    "def compute_loss(y_pred, y_true):\n",
    "    '''\n",
    "    Compute the loss function\n",
    "    '''\n",
    "    return np.sum(np.square(y_true - y_pred))"
   ]
  },
  {
   "cell_type": "code",
   "execution_count": 4,
   "metadata": {},
   "outputs": [
    {
     "name": "stdout",
     "output_type": "stream",
     "text": [
      "Epoch = 0 loss = 22.69\n",
      "Epoch = 100 loss = 0.04\n",
      "Epoch = 200 loss = 0.00\n",
      "Epoch = 300 loss = 0.00\n",
      "Epoch = 400 loss = 0.00\n",
      "Final Theta: [0.29865026 0.19988969 0.09999911]\n"
     ]
    }
   ],
   "source": [
    "# constants and parameters\n",
    "learning_rate = 0.01\n",
    "epochs = 500\n",
    "\n",
    "# initialize theta\n",
    "theta = np.random.normal(0, 1, size=nb_features).reshape(-1, 1)\n",
    "\n",
    "for epoch in range(epochs):\n",
    "    # compute gradients\n",
    "    gradient = compute_gradient(y, theta, X)\n",
    "    \n",
    "    # update variables\n",
    "    theta -= learning_rate * gradient\n",
    "    \n",
    "    # compute current loss\n",
    "    y_pred = X @ theta\n",
    "    loss = compute_loss(y_pred, y)\n",
    "    if epoch % 100 == 0:\n",
    "        print(f'Epoch = {epoch} loss = {loss:.2f}')\n",
    "        \n",
    "print(f'Final Theta: {theta.squeeze()}')"
   ]
  },
  {
   "cell_type": "markdown",
   "metadata": {},
   "source": [
    "Nice!"
   ]
  },
  {
   "cell_type": "markdown",
   "metadata": {},
   "source": [
    "## Tensorflow 2.0\n"
   ]
  },
  {
   "cell_type": "code",
   "execution_count": 5,
   "metadata": {},
   "outputs": [],
   "source": [
    "def model(X, theta):\n",
    "    return tf.matmul(X, theta)\n",
    "\n",
    "\n",
    "def loss_function(y_pred, y_true):\n",
    "    return tf.reduce_sum(tf.square(y_pred - y_true))\n",
    "\n",
    "\n",
    "def train(X, y):\n",
    "    \"\"\"\n",
    "    One Training Epoch\n",
    "    \"\"\"\n",
    "    with tf.GradientTape() as tape:\n",
    "        # apply the model\n",
    "        y_pred = tf.matmul(X, theta_tensor)\n",
    "        \n",
    "        # compute current loss\n",
    "        current_loss = tf.reduce_sum(tf.square(y_pred - y))\n",
    "        \n",
    "    # automatic differentiation step\n",
    "    gradients = tape.gradient(current_loss, [theta_tensor])\n",
    "\n",
    "    # apply gradients\n",
    "    grads_and_vars = zip(gradients, [theta_tensor])\n",
    "    optimizer.apply_gradients(grads_and_vars)\n",
    "\n",
    "    return current_loss"
   ]
  },
  {
   "cell_type": "code",
   "execution_count": 6,
   "metadata": {},
   "outputs": [
    {
     "name": "stdout",
     "output_type": "stream",
     "text": [
      "Epoch 0, current loss 7.44\n",
      "Final Theta: [0.29999152 0.19999929 0.09999996]\n"
     ]
    }
   ],
   "source": [
    "# constants and parameters\n",
    "learning_rate = 0.01\n",
    "epochs = 500\n",
    "\n",
    "# define the data\n",
    "X_tensor = tf.constant(X, dtype=tf.float32)\n",
    "y_tensor = tf.constant(y.reshape(-1, 1), dtype=tf.float32)\n",
    "\n",
    "# initialize theta\n",
    "theta_tensor = tf.Variable(tf.random.normal(shape=(nb_features, 1)), trainable=True, dtype=tf.float32)\n",
    "\n",
    "# choose an optimizer\n",
    "optimizer = tf.keras.optimizers.SGD(learning_rate=learning_rate)\n",
    "\n",
    "# run\n",
    "for epoch in range(epochs):\n",
    "    current_loss = train(X_tensor, y_tensor)\n",
    "    if epoch % 1000 == 0:\n",
    "        print(f'Epoch {epoch}, current loss {current_loss:.2f}')\n",
    "        \n",
    "print(f'Final Theta: {theta_tensor.numpy().squeeze()}')"
   ]
  },
  {
   "cell_type": "code",
   "execution_count": null,
   "metadata": {},
   "outputs": [],
   "source": []
  }
 ],
 "metadata": {
  "kernelspec": {
   "display_name": "ml",
   "language": "python",
   "name": "ml"
  },
  "language_info": {
   "codemirror_mode": {
    "name": "ipython",
    "version": 3
   },
   "file_extension": ".py",
   "mimetype": "text/x-python",
   "name": "python",
   "nbconvert_exporter": "python",
   "pygments_lexer": "ipython3",
   "version": "3.7.2"
  },
  "toc": {
   "base_numbering": 1,
   "nav_menu": {},
   "number_sections": true,
   "sideBar": true,
   "skip_h1_title": false,
   "title_cell": "Table of Contents",
   "title_sidebar": "Contents",
   "toc_cell": false,
   "toc_position": {},
   "toc_section_display": true,
   "toc_window_display": false
  }
 },
 "nbformat": 4,
 "nbformat_minor": 4
}
