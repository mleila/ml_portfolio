{
 "cells": [
  {
   "cell_type": "markdown",
   "metadata": {},
   "source": [
    "# Introduction"
   ]
  },
  {
   "cell_type": "code",
   "execution_count": 8,
   "metadata": {},
   "outputs": [],
   "source": [
    "import numpy as np\n",
    "import tensorflow as tf\n",
    "\n",
    "np.set_printoptions(precision=2, suppress=True)"
   ]
  },
  {
   "cell_type": "markdown",
   "metadata": {},
   "source": [
    "<div><img src=\"../../assets/01_ML_Concepts/LR_GD_1.png\", width=500, height=100></div>"
   ]
  },
  {
   "cell_type": "markdown",
   "metadata": {},
   "source": [
    "<div>\n",
    "<img src=\"../../assets/01_ML_Concepts/LR_GD_2.png\", width=500, height=100>\n",
    "    </div>"
   ]
  },
  {
   "cell_type": "markdown",
   "metadata": {},
   "source": [
    "<div>\n",
    "<img src=\"../../assets/01_ML_Concepts/LR_GD_3.png\", width=500, height=100>\n",
    "    </div>"
   ]
  },
  {
   "cell_type": "markdown",
   "metadata": {},
   "source": [
    "# Implementation"
   ]
  },
  {
   "cell_type": "markdown",
   "metadata": {},
   "source": [
    "Let's implement Gradient Descent using the derived gradients"
   ]
  },
  {
   "cell_type": "markdown",
   "metadata": {},
   "source": [
    "## Synthetic Data"
   ]
  },
  {
   "cell_type": "code",
   "execution_count": 9,
   "metadata": {},
   "outputs": [
    {
     "name": "stdout",
     "output_type": "stream",
     "text": [
      "X shape = (100, 3), y shape = (100, 1)\n"
     ]
    }
   ],
   "source": [
    "nb_samples = 100 # n in the whiteboard\n",
    "nb_features = 3 # d in the whiteboard\n",
    "\n",
    "# generate three random vectors \n",
    "x_1 = np.random.normal(0, 0.1, size=nb_samples)\n",
    "x_2 = np.random.normal(0, 0.3, size=nb_samples)\n",
    "x_3 = np.random.normal(0, 0.2, size=nb_samples)\n",
    "\n",
    "# take their linear combination according to vector theta to generate y\n",
    "noise = np.random.normal(0, 0.01, size=nb_samples) # some gaussian noise\n",
    "noise = 0\n",
    "y = 0.3*x_1 + 0.2*x_2 + 0.1*x_3 + noise # number of parameters corresponidng to nb_features\n",
    "y = y.reshape(-1, 1) # this is important for tf\n",
    "\n",
    "# create the design matrix X\n",
    "X = np.stack([x_1, x_2, x_3], axis=1)\n",
    "\n",
    "# sanity check the dimensions of our matrices\n",
    "print(f'X shape = {X.shape}, y shape = {y.shape}')"
   ]
  },
  {
   "cell_type": "markdown",
   "metadata": {},
   "source": [
    "## Numpy"
   ]
  },
  {
   "cell_type": "code",
   "execution_count": 10,
   "metadata": {},
   "outputs": [],
   "source": [
    "def compute_gradient(y, theta, X):\n",
    "    '''\n",
    "    Implement the gradient as shown from the derivation\n",
    "    '''\n",
    "    gradient = (-y.T @ X) + (theta.T @ X.T @ X)\n",
    "    return gradient.T\n",
    "\n",
    "\n",
    "def compute_loss(y_pred, y_true):\n",
    "    '''\n",
    "    Compute the loss function\n",
    "    '''\n",
    "    return np.sum(np.square(y_true - y_pred))"
   ]
  },
  {
   "cell_type": "code",
   "execution_count": 11,
   "metadata": {},
   "outputs": [
    {
     "name": "stdout",
     "output_type": "stream",
     "text": [
      "Epoch = 0 loss = 96.44\n",
      "Epoch = 100 loss = 0.00\n",
      "Epoch = 200 loss = 0.00\n",
      "Epoch = 300 loss = 0.00\n",
      "Epoch = 400 loss = 0.00\n",
      "Final Theta: [0.3 0.2 0.1]\n"
     ]
    }
   ],
   "source": [
    "# constants and parameters\n",
    "learning_rate = 0.01\n",
    "epochs = 500\n",
    "\n",
    "# initialize theta\n",
    "theta = np.random.normal(0, 1, size=nb_features).reshape(-1, 1)\n",
    "\n",
    "for epoch in range(epochs):\n",
    "    # compute gradients\n",
    "    gradient = compute_gradient(y, theta, X)\n",
    "    \n",
    "    # update variables\n",
    "    theta -= learning_rate * gradient\n",
    "    \n",
    "    # compute current loss\n",
    "    y_pred = X @ theta\n",
    "    loss = compute_loss(y_pred, y)\n",
    "    if epoch % 100 == 0:\n",
    "        print(f'Epoch = {epoch} loss = {loss:.2f}')\n",
    "        \n",
    "print(f'Final Theta: {theta.squeeze()}')"
   ]
  },
  {
   "cell_type": "markdown",
   "metadata": {},
   "source": [
    "Nice!"
   ]
  },
  {
   "cell_type": "markdown",
   "metadata": {},
   "source": [
    "## Tensorflow 2.0\n"
   ]
  },
  {
   "cell_type": "code",
   "execution_count": 12,
   "metadata": {},
   "outputs": [],
   "source": [
    "def train_epoch(X, y, model, loss_function):\n",
    "    '''\n",
    "    One Training Epoch\n",
    "    '''\n",
    "    with tf.GradientTape() as tape:\n",
    "        # apply the model\n",
    "        y_pred = model.predict(X)\n",
    "        \n",
    "        # compute current loss\n",
    "        current_loss = loss_function(y_pred, y)\n",
    "        \n",
    "    # automatic differentiation step\n",
    "    gradients = tape.gradient(current_loss, model.variables)\n",
    "\n",
    "    # apply gradients\n",
    "    grads_and_vars = zip(gradients, model.variables)\n",
    "    optimizer.apply_gradients(grads_and_vars)\n",
    "\n",
    "    return current_loss\n",
    "\n",
    "\n",
    "def train(data, target, model, loss_function, epochs, verbose=True):\n",
    "    '''\n",
    "    Full training pipeline\n",
    "    '''\n",
    "    for epoch in range(epochs):\n",
    "        current_loss = train_epoch(data, target, model, loss_function)\n",
    "        if epoch % 1000 == 0:\n",
    "            print(f'Epoch {epoch}, current loss {current_loss:.2f}')"
   ]
  },
  {
   "cell_type": "code",
   "execution_count": 13,
   "metadata": {},
   "outputs": [
    {
     "name": "stdout",
     "output_type": "stream",
     "text": [
      "Epoch 0, current loss 43.76\n",
      "Final Theta: [0.3 0.2 0.1]\n"
     ]
    }
   ],
   "source": [
    "# constants and parameters\n",
    "learning_rate = 0.01\n",
    "epochs = 500\n",
    "\n",
    "# define the model\n",
    "class LinearModel:\n",
    "    \n",
    "    def __init__(self, nb_features):\n",
    "        self.nb_features = nb_features\n",
    "        self._init_variables()\n",
    "        \n",
    "        \n",
    "    def _init_variables(self):\n",
    "        theta = tf.random.normal(shape=(self.nb_features, 1))\n",
    "        self.theta = tf.Variable(theta, trainable=True, dtype=tf.float32)\n",
    "        self.variables = [self.theta]\n",
    "        \n",
    "    \n",
    "    def predict(self, X):\n",
    "        theta = self.variables[0]\n",
    "        return tf.matmul(X, theta)\n",
    "\n",
    "\n",
    "# define the loss function\n",
    "def l2_loss_function(y_pred, y_true):\n",
    "    return tf.reduce_sum(tf.square(y_pred - y_true))\n",
    "\n",
    "\n",
    "# define the data\n",
    "data = tf.constant(X, dtype=tf.float32)\n",
    "target = tf.constant(y.reshape(-1, 1), dtype=tf.float32)\n",
    "\n",
    "\n",
    "# initialize the model\n",
    "model = LinearModel(nb_features)\n",
    "\n",
    "\n",
    "# choose an optimizer\n",
    "optimizer = tf.keras.optimizers.SGD(learning_rate=learning_rate)\n",
    "\n",
    "\n",
    "# train\n",
    "train(data, target, model, l2_loss_function, epochs, verbose=True)\n",
    "\n",
    "# print results\n",
    "theta_tensor = model.variables[0]\n",
    "print(f'Final Theta: {theta_tensor.numpy().squeeze()}')"
   ]
  },
  {
   "cell_type": "markdown",
   "metadata": {},
   "source": [
    "Finally, let's wrap this procedure in a function"
   ]
  }
 ],
 "metadata": {
  "kernelspec": {
   "display_name": "ml",
   "language": "python",
   "name": "ml"
  },
  "language_info": {
   "codemirror_mode": {
    "name": "ipython",
    "version": 3
   },
   "file_extension": ".py",
   "mimetype": "text/x-python",
   "name": "python",
   "nbconvert_exporter": "python",
   "pygments_lexer": "ipython3",
   "version": "3.7.2"
  },
  "toc": {
   "base_numbering": 1,
   "nav_menu": {},
   "number_sections": true,
   "sideBar": true,
   "skip_h1_title": false,
   "title_cell": "Table of Contents",
   "title_sidebar": "Contents",
   "toc_cell": false,
   "toc_position": {},
   "toc_section_display": true,
   "toc_window_display": false
  }
 },
 "nbformat": 4,
 "nbformat_minor": 4
}
